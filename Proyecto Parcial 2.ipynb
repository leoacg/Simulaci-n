{
 "cells": [
  {
   "cell_type": "markdown",
   "metadata": {},
   "source": [
    "![](https://upload.wikimedia.org/wikipedia/commons/thumb/e/ea/Logo-ITESO-Principal-60V.png/250px-Logo-ITESO-Principal-60V.png)"
   ]
  },
  {
   "cell_type": "markdown",
   "metadata": {},
   "source": [
    "## <CENTER><font color=\"BLUE\">**INTEGRANTES**</font>\n",
    "    \n",
    "**<center> María Luisa Alvarado López if 715373**\n",
    "**<center>Jesús Álvarez Castellanos if714552*\n",
    "**<center>Javier Alejandro Zamora Gomez  if714329**\n",
    "**<center>José Leonardo Aceves González if712626**\n",
    "\n",
    "## <CENTER><font color=\"BLUE\">**MAESTRA**</font> \n",
    "**<center> Adriana de Guadalupe García Padilla**    \n",
    "    "
   ]
  },
  {
   "cell_type": "markdown",
   "metadata": {},
   "source": [
    "# <center><font color=\"blue\"> Proyecto Programación lineal</font>"
   ]
  },
  {
   "cell_type": "markdown",
   "metadata": {},
   "source": [
    "## <center><font color=\"green\">\"SIMULADOR DE RENDIMIENTOS POR (CAPITALIZACIÓN CONTINUA) INTERÉS COMPUESTO\"</font>\n",
    "\n",
    "Con base en lo aprendido se creará un código mediante el cual se pueda obtener los rendimientos que se tendrían en caso de que fuerán capitalizables continuamente. Esto nos arrojara los datos necesarios para llegar a una conclusión y así poder decidir cual opción nos generará un beneficio mayor neto.\n",
    "\n",
    "# <font color=\"purple\">**Objetivos**</font>\n",
    "\n",
    "- El proyecto tiene como propósito mostrar los conocimientos adquiridos durante el parcial, además de ser un tema de interés, pues todos los integrantes estudiamos la carrera de ingeniería financiera.\n",
    "\n",
    "- **Objetivo General**\n",
    "\n",
    "    Obtener el mejor metodo de inverción de acuerdo a los beneficios netos que éste arroje.\n",
    "\n",
    "- **Objetivos específicos**\n",
    "\n",
    "     Primero se analizarán los datos que se tienen de cada una de las posibilidades de inversión, para posteriormente crear nuestro código con todos los requerimientos, el cual nos dará como resultado una simulación de los beneficios netos de estas opciones."
   ]
  },
  {
   "cell_type": "markdown",
   "metadata": {},
   "source": [
    "Una persona está buscando el mejor método de inversión que tenga a su alcance.Se encuentra con el problema, de que cada una de las opciones, ofrecen diferentes tasas con diferentes periodos de capitalizacón; por lo que se encuentra confundio y no sabe cual de estas es la mejor. Acude a nosotros mostrandonos la siguiente tabla:\n",
    "\n",
    "##### Opcion de Inversión  |  Rendimiento  |   Periodos de Capitalización\n",
    "1. Cuenta Bancaria A| 6.14%|semestral\n",
    "2. Cuenta Bancaria B| 4.2%|mensual\n",
    "3. Cuenta Bancaria C|8.5%|anual\n",
    "\n",
    "En el caso de la Cuenta Bancaria A la capitalización es cada bimestre, en la cuenta B es mensual y por último en la cuenta C la capitalización es anual. "
   ]
  },
  {
   "cell_type": "markdown",
   "metadata": {},
   "source": [
    "<font color=\"blue\">*Modelo que representa el problema*</font>\n",
    "\n",
    "Partiendo de la teoria de capitalización continua tenemos que la formula para obtener el el rendimiento con una tasa continua es:\n",
    "\n",
    "$$VF=Ae^{Rcn}$$\n",
    "\n",
    "Por lo que de está formula podemos obtener las equivalencia entre las tasas de capitalización continua y periodica:\n",
    "\n",
    "$$R_{c}=m*ln(1+\\frac{Rm}{m})$$\n",
    "\n",
    "Ecuación diferencial de capitalización continua de intereses\n",
    "\n",
    "$$\\frac{d C(t)}{dt}=r\\; C(t),$$\n",
    "Donde:\n",
    "$R_{c}=$ Tasa continua\n",
    "\n",
    "$R_{m}=$ Tasa periodica\n",
    "\n",
    "$m=$ Tiempo de capitalizacón en años\n",
    "\n",
    "$A=$ Capital\n",
    "\n",
    "$VF=$ Valor futuro\n",
    "\n",
    "$P=$ Pago total a amortizar\n",
    "\n",
    "$r=$ tasa de interés instantánea\n",
    "\n",
    "$C(t)=$ capital inicial"
   ]
  },
  {
   "cell_type": "markdown",
   "metadata": {},
   "source": [
    "#### <font color=\"orange\">**SOLUCIÓN:**</font>"
   ]
  },
  {
   "cell_type": "code",
   "execution_count": 1,
   "metadata": {},
   "outputs": [],
   "source": [
    "import matplotlib.pyplot as plt\n",
    "%matplotlib inline\n",
    "import numpy as np\n",
    "import pandas as pd"
   ]
  },
  {
   "cell_type": "markdown",
   "metadata": {},
   "source": [
    "##### Explicación:\n",
    "Aquí se importaron las librerias necesarias para poder utilizar las funciones que simplifican calculos, formas de edición o que simplemente ayudan a mejorar la manera en la que presentamos los datos."
   ]
  },
  {
   "cell_type": "markdown",
   "metadata": {},
   "source": [
    "# Cuenta Bancaria A"
   ]
  },
  {
   "cell_type": "code",
   "execution_count": 31,
   "metadata": {},
   "outputs": [
    {
     "name": "stdout",
     "output_type": "stream",
     "text": [
      "Tasa continua 6.09\n",
      "Tasa periodica 6.14\n"
     ]
    }
   ],
   "source": [
    "R_m=6.14\n",
    "m=4\n",
    "R_c =m*np.log(1+R_m/m/100)\n",
    "R_cp=R_c*100\n",
    "print('Tasa continua',round(R_c,4)*100)\n",
    "print('Tasa periodica', R_m)"
   ]
  },
  {
   "cell_type": "markdown",
   "metadata": {},
   "source": [
    "##### Explicación:\n",
    "El calculo con tasas periodicas implica perdida de capital, por el factor del tiempo. Por lo tanto es necesario convertir las tasas periodicas a tasas continuas. Dichas tasas son casi identicas, siendo las periodicas un poco mayores a las continuas. El código cambia una tasa a otra mediante una formula."
   ]
  },
  {
   "cell_type": "code",
   "execution_count": 36,
   "metadata": {},
   "outputs": [
    {
     "data": {
      "text/plain": [
       "array([500000, 515467, 531414, 547853, 564801])"
      ]
     },
     "execution_count": 36,
     "metadata": {},
     "output_type": "execute_result"
    }
   ],
   "source": [
    "A=500000\n",
    "t=np.arange(m+1)\n",
    "Y=np.arange(m+1)\n",
    "for i in t:\n",
    "    Y[i]=A*np.exp(R_c*i/2)\n",
    "Y"
   ]
  },
  {
   "cell_type": "markdown",
   "metadata": {},
   "source": [
    "##### Explicación:\n",
    "Lo que estamos haciendo aquí es elevar el capital inicial de $50,000.00 MXN a la tasa de capitalización continua que previamente habiamos formulado, durante n periodos para ver como crece el capital. Como podemos ver, en el periodo cero, el capital no crece, en el periodo uno el capital haciende a $51,546.70 MXN y así sucesivamente. "
   ]
  },
  {
   "cell_type": "markdown",
   "metadata": {},
   "source": [
    "# Cuenta Bancaria B"
   ]
  },
  {
   "cell_type": "code",
   "execution_count": 42,
   "metadata": {},
   "outputs": [
    {
     "name": "stdout",
     "output_type": "stream",
     "text": [
      "Tasa continua 4.1963\n",
      "Tasa periodica 4.2\n"
     ]
    }
   ],
   "source": [
    "R_m2=4.2\n",
    "m2=24\n",
    "R_c2 =m2*np.log(1+R_m2/m2/100)\n",
    "R_cp2=R_c2*100\n",
    "print('Tasa continua',round(R_cp2,4))\n",
    "print('Tasa periodica', round(R_m2,4))"
   ]
  },
  {
   "cell_type": "code",
   "execution_count": 17,
   "metadata": {},
   "outputs": [
    {
     "data": {
      "text/plain": [
       "array([500000, 501751, 503509, 505273, 507043, 508819, 510601, 512390,\n",
       "       514185, 515986, 517794, 519607, 521428, 523254, 525087, 526927,\n",
       "       528772, 530625, 532484, 534349, 536221, 538099, 539984, 541876,\n",
       "       543774])"
      ]
     },
     "execution_count": 17,
     "metadata": {},
     "output_type": "execute_result"
    }
   ],
   "source": [
    "A=500000\n",
    "t2=np.arange(m2+1)\n",
    "Y_2=np.arange(m2+1)\n",
    "for i in t2:\n",
    "    Y_2[i]=A*np.exp(R_c2*i/12)\n",
    "Y_2"
   ]
  },
  {
   "cell_type": "markdown",
   "metadata": {},
   "source": [
    "# Cuenta Bancaria C"
   ]
  },
  {
   "cell_type": "code",
   "execution_count": 46,
   "metadata": {},
   "outputs": [
    {
     "name": "stdout",
     "output_type": "stream",
     "text": [
      "Tasa continua 8.3243\n",
      "Tasa periodica 8.5\n"
     ]
    }
   ],
   "source": [
    "R_m3=8.5\n",
    "m3=2\n",
    "R_c3 =m3*np.log(1+R_m3/m3/100)\n",
    "R_cp3=R_c3*100\n",
    "print('Tasa continua',round(R_cp3,4))\n",
    "print('Tasa periodica',R_m3)"
   ]
  },
  {
   "cell_type": "code",
   "execution_count": 19,
   "metadata": {},
   "outputs": [
    {
     "data": {
      "text/plain": [
       "array([500000, 543403, 590573])"
      ]
     },
     "execution_count": 19,
     "metadata": {},
     "output_type": "execute_result"
    }
   ],
   "source": [
    "A=500000\n",
    "t3=np.arange(m3+1)\n",
    "Y_3=np.arange(m3+1)\n",
    "for i in t3:\n",
    "    Y_3[i]=A*np.exp(R_c3*i)\n",
    "    \n",
    "Y_3"
   ]
  },
  {
   "cell_type": "markdown",
   "metadata": {},
   "source": [
    "##### Explicación:\n",
    "Aquí repetimos el mismo proceso de la cuenta A y la cuenta B. Primero en la linea [46] convertimos la tasa de interes capitalizable periodicamente a una de capitalización continua. Después elevamos el cápital con esa tasa continua a los 12 periodos, contando el periodo cero, de los dos años que dura la inversión; dando como resultado las listas llamadas Y_2 y Y_3 que contiene dichos montos."
   ]
  },
  {
   "cell_type": "code",
   "execution_count": 20,
   "metadata": {},
   "outputs": [
    {
     "data": {
      "text/plain": [
       "<matplotlib.legend.Legend at 0x1128a1d68>"
      ]
     },
     "execution_count": 20,
     "metadata": {},
     "output_type": "execute_result"
    },
    {
     "data": {
      "image/png": "[encoded data removed]",
      "text/plain": [
       "<Figure size 432x288 with 1 Axes>"
      ]
     },
     "metadata": {
      "needs_background": "light"
     },
     "output_type": "display_data"
    }
   ],
   "source": [
    "plt.plot(t*6,Y,'o-', lw=2, label='Bancaria A')\n",
    "\n",
    "plt.plot(t2,Y_2,'o-', lw=2, label='Bancaria B')\n",
    "\n",
    "plt.plot(t3*12,Y_3, 'o-', lw=2, label=\"Bancaria C\")\n",
    "\n",
    "plt.xlabel('Tiempo')\n",
    "plt.ylabel('Intereses')\n",
    "plt.title('Interés Compuesto', fontsize = 16)\n",
    "plt.legend(loc='best')"
   ]
  },
  {
   "cell_type": "markdown",
   "metadata": {},
   "source": [
    "##### Explicación:\n",
    "Aquí mostramos graficamente como crece el monto incial después de n periodos, su respectiva tasa. La cuenta que crece más es la C; esto debido a que tiene la tasa de capitalización continua más alta, acelerando el crecimiento del dinero con el paso del tiempo."
   ]
  },
  {
   "cell_type": "code",
   "execution_count": 47,
   "metadata": {},
   "outputs": [],
   "source": [
    "a=Y[1]-Y[0]\n",
    "b=Y[2]-Y[1]\n",
    "c=Y[3]-Y[2]\n",
    "d=Y[4]-Y[3]"
   ]
  },
  {
   "cell_type": "code",
   "execution_count": 49,
   "metadata": {},
   "outputs": [],
   "source": [
    "tabla = pd.DataFrame({'Monto':[500000,Y[1],Y[2],Y[3],Y[4]],\n",
    "                    'Capital':[500000,Y[0],Y[1],Y[2],Y[3]],\n",
    "                    'Interés': [0,a,b,c,d]} ,columns = ['Capital', 'Interés', 'Monto'])\n",
    "tabla.index.name='Periodos'\n"
   ]
  },
  {
   "cell_type": "code",
   "execution_count": 50,
   "metadata": {},
   "outputs": [
    {
     "data": {
      "text/html": [
       "<div>\n",
       "<style scoped>\n",
       "    .dataframe tbody tr th:only-of-type {\n",
       "        vertical-align: middle;\n",
       "    }\n",
       "\n",
       "    .dataframe tbody tr th {\n",
       "        vertical-align: top;\n",
       "    }\n",
       "\n",
       "    .dataframe thead th {\n",
       "        text-align: right;\n",
       "    }\n",
       "</style>\n",
       "<table border=\"1\" class=\"dataframe\">\n",
       "  <thead>\n",
       "    <tr style=\"text-align: right;\">\n",
       "      <th></th>\n",
       "      <th>Capital</th>\n",
       "      <th>Interés</th>\n",
       "      <th>Monto</th>\n",
       "    </tr>\n",
       "    <tr>\n",
       "      <th>Periodos</th>\n",
       "      <th></th>\n",
       "      <th></th>\n",
       "      <th></th>\n",
       "    </tr>\n",
       "  </thead>\n",
       "  <tbody>\n",
       "    <tr>\n",
       "      <th>0</th>\n",
       "      <td>500000</td>\n",
       "      <td>0</td>\n",
       "      <td>500000</td>\n",
       "    </tr>\n",
       "    <tr>\n",
       "      <th>1</th>\n",
       "      <td>500000</td>\n",
       "      <td>15467</td>\n",
       "      <td>515467</td>\n",
       "    </tr>\n",
       "    <tr>\n",
       "      <th>2</th>\n",
       "      <td>515467</td>\n",
       "      <td>15947</td>\n",
       "      <td>531414</td>\n",
       "    </tr>\n",
       "    <tr>\n",
       "      <th>3</th>\n",
       "      <td>531414</td>\n",
       "      <td>16439</td>\n",
       "      <td>547853</td>\n",
       "    </tr>\n",
       "    <tr>\n",
       "      <th>4</th>\n",
       "      <td>547853</td>\n",
       "      <td>16948</td>\n",
       "      <td>564801</td>\n",
       "    </tr>\n",
       "  </tbody>\n",
       "</table>\n",
       "</div>"
      ],
      "text/plain": [
       "          Capital  Interés   Monto\n",
       "Periodos                          \n",
       "0          500000        0  500000\n",
       "1          500000    15467  515467\n",
       "2          515467    15947  531414\n",
       "3          531414    16439  547853\n",
       "4          547853    16948  564801"
      ]
     },
     "execution_count": 50,
     "metadata": {},
     "output_type": "execute_result"
    }
   ],
   "source": [
    "tabla"
   ]
  },
  {
   "cell_type": "markdown",
   "metadata": {},
   "source": [
    "Tabla 2"
   ]
  },
  {
   "cell_type": "code",
   "execution_count": 12,
   "metadata": {},
   "outputs": [],
   "source": [
    "a1=Y_2[1]-Y_2[0]\n",
    "a2=Y_2[2]-Y_2[1]\n",
    "a3=Y_2[3]-Y_2[2]\n",
    "a4=Y_2[4]-Y_2[3]\n",
    "a5=Y_2[5]-Y_2[4]\n",
    "a6=Y_2[6]-Y_2[5]\n",
    "a7=Y_2[7]-Y_2[6]\n",
    "a8=Y_2[8]-Y_2[7]\n",
    "a9=Y_2[9]-Y_2[8]\n",
    "b1=Y_2[10]-Y_2[9]\n",
    "b2=Y_2[11]-Y_2[10]\n",
    "b3=Y_2[12]-Y_2[11]\n",
    "b4=Y_2[13]-Y_2[12]\n",
    "b5=Y_2[14]-Y_2[13]\n",
    "b6=Y_2[15]-Y_2[14]\n",
    "b7=Y_2[16]-Y_2[15]\n",
    "b8=Y_2[17]-Y_2[16]\n",
    "b9=Y_2[18]-Y_2[17]\n",
    "c1=Y_2[19]-Y_2[18]\n",
    "c2=Y_2[20]-Y_2[19]\n",
    "c3=Y_2[21]-Y_2[20]\n",
    "c4=Y_2[22]-Y_2[21]\n",
    "c5=Y_2[23]-Y_2[22]\n",
    "c6=Y_2[24]-Y_2[23]"
   ]
  },
  {
   "cell_type": "code",
   "execution_count": 13,
   "metadata": {},
   "outputs": [],
   "source": [
    "tabla2 = pd.DataFrame({'Monto':[500000,Y_2[1],Y_2[2],Y_2[3],Y_2[4],Y_2[5],Y_2[6],Y_2[7],Y_2[8],\n",
    "                               Y_2[9]\n",
    "                               ,Y_2[10],Y_2[11],Y_2[12],Y_2[13],Y_2[14],Y_2[15],Y_2[16],Y_2[17]\n",
    "                               ,Y_2[18],Y_2[19]\n",
    "                               ,Y_2[20],Y_2[21],Y_2[22],Y_2[23],Y_2[24]],\n",
    "                    'Capital':[500000,Y_2[0],Y_2[1],Y_2[2],Y_2[3],Y_2[4],Y_2[5],Y_2[6],Y_2[7],\n",
    "                                          Y_2[8],Y_2[9]\n",
    "                              ,Y_2[10],Y_2[11],Y_2[12],Y_2[13],Y_2[14],Y_2[15],Y_2[16],\n",
    "                                          Y_2[17],Y_2[18],Y_2[19]\n",
    "                              ,Y_2[20],Y_2[21],Y_2[22],Y_2[23]],\n",
    "                    'Interés':[0,a1,a2,a3,a4,a5,a6,a7,a8,a9,b1,b2,b3,b4,\n",
    "                               b5,b6,b7,b8,b9,c1,c2,c3,c4,c5,c6]} ,columns = ['Capital', 'Interés', 'Monto'])\n",
    "                               \n",
    "tabla2.index.name='Periodos'"
   ]
  },
  {
   "cell_type": "code",
   "execution_count": 14,
   "metadata": {},
   "outputs": [
    {
     "data": {
      "text/html": [
       "<div>\n",
       "<style scoped>\n",
       "    .dataframe tbody tr th:only-of-type {\n",
       "        vertical-align: middle;\n",
       "    }\n",
       "\n",
       "    .dataframe tbody tr th {\n",
       "        vertical-align: top;\n",
       "    }\n",
       "\n",
       "    .dataframe thead th {\n",
       "        text-align: right;\n",
       "    }\n",
       "</style>\n",
       "<table border=\"1\" class=\"dataframe\">\n",
       "  <thead>\n",
       "    <tr style=\"text-align: right;\">\n",
       "      <th></th>\n",
       "      <th>Capital</th>\n",
       "      <th>Interés</th>\n",
       "      <th>Monto</th>\n",
       "    </tr>\n",
       "    <tr>\n",
       "      <th>Periodos</th>\n",
       "      <th></th>\n",
       "      <th></th>\n",
       "      <th></th>\n",
       "    </tr>\n",
       "  </thead>\n",
       "  <tbody>\n",
       "    <tr>\n",
       "      <th>0</th>\n",
       "      <td>500000</td>\n",
       "      <td>0</td>\n",
       "      <td>500000</td>\n",
       "    </tr>\n",
       "    <tr>\n",
       "      <th>1</th>\n",
       "      <td>500000</td>\n",
       "      <td>1751</td>\n",
       "      <td>501751</td>\n",
       "    </tr>\n",
       "    <tr>\n",
       "      <th>2</th>\n",
       "      <td>501751</td>\n",
       "      <td>1758</td>\n",
       "      <td>503509</td>\n",
       "    </tr>\n",
       "    <tr>\n",
       "      <th>3</th>\n",
       "      <td>503509</td>\n",
       "      <td>1764</td>\n",
       "      <td>505273</td>\n",
       "    </tr>\n",
       "    <tr>\n",
       "      <th>4</th>\n",
       "      <td>505273</td>\n",
       "      <td>1770</td>\n",
       "      <td>507043</td>\n",
       "    </tr>\n",
       "    <tr>\n",
       "      <th>5</th>\n",
       "      <td>507043</td>\n",
       "      <td>1776</td>\n",
       "      <td>508819</td>\n",
       "    </tr>\n",
       "    <tr>\n",
       "      <th>6</th>\n",
       "      <td>508819</td>\n",
       "      <td>1782</td>\n",
       "      <td>510601</td>\n",
       "    </tr>\n",
       "    <tr>\n",
       "      <th>7</th>\n",
       "      <td>510601</td>\n",
       "      <td>1789</td>\n",
       "      <td>512390</td>\n",
       "    </tr>\n",
       "    <tr>\n",
       "      <th>8</th>\n",
       "      <td>512390</td>\n",
       "      <td>1795</td>\n",
       "      <td>514185</td>\n",
       "    </tr>\n",
       "    <tr>\n",
       "      <th>9</th>\n",
       "      <td>514185</td>\n",
       "      <td>1801</td>\n",
       "      <td>515986</td>\n",
       "    </tr>\n",
       "    <tr>\n",
       "      <th>10</th>\n",
       "      <td>515986</td>\n",
       "      <td>1808</td>\n",
       "      <td>517794</td>\n",
       "    </tr>\n",
       "    <tr>\n",
       "      <th>11</th>\n",
       "      <td>517794</td>\n",
       "      <td>1813</td>\n",
       "      <td>519607</td>\n",
       "    </tr>\n",
       "    <tr>\n",
       "      <th>12</th>\n",
       "      <td>519607</td>\n",
       "      <td>1821</td>\n",
       "      <td>521428</td>\n",
       "    </tr>\n",
       "    <tr>\n",
       "      <th>13</th>\n",
       "      <td>521428</td>\n",
       "      <td>1826</td>\n",
       "      <td>523254</td>\n",
       "    </tr>\n",
       "    <tr>\n",
       "      <th>14</th>\n",
       "      <td>523254</td>\n",
       "      <td>1833</td>\n",
       "      <td>525087</td>\n",
       "    </tr>\n",
       "    <tr>\n",
       "      <th>15</th>\n",
       "      <td>525087</td>\n",
       "      <td>1840</td>\n",
       "      <td>526927</td>\n",
       "    </tr>\n",
       "    <tr>\n",
       "      <th>16</th>\n",
       "      <td>526927</td>\n",
       "      <td>1845</td>\n",
       "      <td>528772</td>\n",
       "    </tr>\n",
       "    <tr>\n",
       "      <th>17</th>\n",
       "      <td>528772</td>\n",
       "      <td>1853</td>\n",
       "      <td>530625</td>\n",
       "    </tr>\n",
       "    <tr>\n",
       "      <th>18</th>\n",
       "      <td>530625</td>\n",
       "      <td>1859</td>\n",
       "      <td>532484</td>\n",
       "    </tr>\n",
       "    <tr>\n",
       "      <th>19</th>\n",
       "      <td>532484</td>\n",
       "      <td>1865</td>\n",
       "      <td>534349</td>\n",
       "    </tr>\n",
       "    <tr>\n",
       "      <th>20</th>\n",
       "      <td>534349</td>\n",
       "      <td>1872</td>\n",
       "      <td>536221</td>\n",
       "    </tr>\n",
       "    <tr>\n",
       "      <th>21</th>\n",
       "      <td>536221</td>\n",
       "      <td>1878</td>\n",
       "      <td>538099</td>\n",
       "    </tr>\n",
       "    <tr>\n",
       "      <th>22</th>\n",
       "      <td>538099</td>\n",
       "      <td>1885</td>\n",
       "      <td>539984</td>\n",
       "    </tr>\n",
       "    <tr>\n",
       "      <th>23</th>\n",
       "      <td>539984</td>\n",
       "      <td>1892</td>\n",
       "      <td>541876</td>\n",
       "    </tr>\n",
       "    <tr>\n",
       "      <th>24</th>\n",
       "      <td>541876</td>\n",
       "      <td>1898</td>\n",
       "      <td>543774</td>\n",
       "    </tr>\n",
       "  </tbody>\n",
       "</table>\n",
       "</div>"
      ],
      "text/plain": [
       "          Capital  Interés   Monto\n",
       "Periodos                          \n",
       "0          500000        0  500000\n",
       "1          500000     1751  501751\n",
       "2          501751     1758  503509\n",
       "3          503509     1764  505273\n",
       "4          505273     1770  507043\n",
       "5          507043     1776  508819\n",
       "6          508819     1782  510601\n",
       "7          510601     1789  512390\n",
       "8          512390     1795  514185\n",
       "9          514185     1801  515986\n",
       "10         515986     1808  517794\n",
       "11         517794     1813  519607\n",
       "12         519607     1821  521428\n",
       "13         521428     1826  523254\n",
       "14         523254     1833  525087\n",
       "15         525087     1840  526927\n",
       "16         526927     1845  528772\n",
       "17         528772     1853  530625\n",
       "18         530625     1859  532484\n",
       "19         532484     1865  534349\n",
       "20         534349     1872  536221\n",
       "21         536221     1878  538099\n",
       "22         538099     1885  539984\n",
       "23         539984     1892  541876\n",
       "24         541876     1898  543774"
      ]
     },
     "execution_count": 14,
     "metadata": {},
     "output_type": "execute_result"
    }
   ],
   "source": [
    "tabla2"
   ]
  },
  {
   "cell_type": "markdown",
   "metadata": {},
   "source": [
    "Tabla 3"
   ]
  },
  {
   "cell_type": "code",
   "execution_count": 15,
   "metadata": {},
   "outputs": [],
   "source": [
    "d1=Y_3[1]-Y_3[0]\n",
    "d2=Y_3[2]-Y_3[1]"
   ]
  },
  {
   "cell_type": "code",
   "execution_count": 16,
   "metadata": {},
   "outputs": [
    {
     "data": {
      "text/html": [
       "<div>\n",
       "<style scoped>\n",
       "    .dataframe tbody tr th:only-of-type {\n",
       "        vertical-align: middle;\n",
       "    }\n",
       "\n",
       "    .dataframe tbody tr th {\n",
       "        vertical-align: top;\n",
       "    }\n",
       "\n",
       "    .dataframe thead th {\n",
       "        text-align: right;\n",
       "    }\n",
       "</style>\n",
       "<table border=\"1\" class=\"dataframe\">\n",
       "  <thead>\n",
       "    <tr style=\"text-align: right;\">\n",
       "      <th></th>\n",
       "      <th>Capital</th>\n",
       "      <th>Interés</th>\n",
       "      <th>Monto</th>\n",
       "    </tr>\n",
       "    <tr>\n",
       "      <th>Periodos</th>\n",
       "      <th></th>\n",
       "      <th></th>\n",
       "      <th></th>\n",
       "    </tr>\n",
       "  </thead>\n",
       "  <tbody>\n",
       "    <tr>\n",
       "      <th>0</th>\n",
       "      <td>500000</td>\n",
       "      <td>0</td>\n",
       "      <td>500000</td>\n",
       "    </tr>\n",
       "    <tr>\n",
       "      <th>1</th>\n",
       "      <td>500000</td>\n",
       "      <td>43403</td>\n",
       "      <td>543403</td>\n",
       "    </tr>\n",
       "    <tr>\n",
       "      <th>2</th>\n",
       "      <td>543403</td>\n",
       "      <td>47170</td>\n",
       "      <td>590573</td>\n",
       "    </tr>\n",
       "  </tbody>\n",
       "</table>\n",
       "</div>"
      ],
      "text/plain": [
       "          Capital  Interés   Monto\n",
       "Periodos                          \n",
       "0          500000        0  500000\n",
       "1          500000    43403  543403\n",
       "2          543403    47170  590573"
      ]
     },
     "execution_count": 16,
     "metadata": {},
     "output_type": "execute_result"
    }
   ],
   "source": [
    "tabla3 = pd.DataFrame({'Monto':[500000,Y_3[1],Y_3[2]],\n",
    "                    'Capital':[500000,Y_3[0],Y_3[1]],\n",
    "                    'Interés':[0,d1,d2]} ,columns = ['Capital', 'Interés', 'Monto'])\n",
    "                               \n",
    "tabla3.index.name='Periodos'\n",
    "tabla3"
   ]
  },
  {
   "cell_type": "markdown",
   "metadata": {},
   "source": [
    "##### Explicación:\n",
    "Lo que podemos ver en las tablas uno, dos y tres, es como crece el capital periodo a periodo, desglozando el el capital inicial, los intereses en cada periodo y después la suma de ambos. Como podemos ver el capital que crece mas rapidamente es el de la cuenta C. "
   ]
  },
  {
   "cell_type": "code",
   "execution_count": null,
   "metadata": {},
   "outputs": [],
   "source": []
  },
  {
   "cell_type": "code",
   "execution_count": null,
   "metadata": {},
   "outputs": [],
   "source": []
  }
 ],
 "metadata": {
  "kernelspec": {
   "display_name": "Python 3",
   "language": "python",
   "name": "python3"
  },
  "language_info": {
   "codemirror_mode": {
    "name": "ipython",
    "version": 3
   },
   "file_extension": ".py",
   "mimetype": "text/x-python",
   "name": "python",
   "nbconvert_exporter": "python",
   "pygments_lexer": "ipython3",
   "version": "3.7.1"
  }
 },
 "nbformat": 4,
 "nbformat_minor": 2
}
